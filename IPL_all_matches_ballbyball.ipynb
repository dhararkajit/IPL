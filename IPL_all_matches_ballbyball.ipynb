{
 "cells": [
  {
   "cell_type": "code",
   "execution_count": 1,
   "metadata": {
    "collapsed": true
   },
   "outputs": [],
   "source": [
    "import yaml\n",
    "import os\n",
    "os.chdir('C:\\\\Users\\\\401738\\\\Downloads\\\\ipl\\\\')"
   ]
  },
  {
   "cell_type": "markdown",
   "metadata": {},
   "source": [
    "### FUNCTION to load each YAML files for a particular IPL season. \n",
    "#start and #end variables are the starting and ending file names "
   ]
  },
  {
   "cell_type": "code",
   "execution_count": 2,
   "metadata": {
    "collapsed": true
   },
   "outputs": [],
   "source": [
    "def load_data(start , end ):\n",
    "    matches = []\n",
    "    for i in range(start, end):\n",
    "        if os.path.isfile('./'+str(i)+'.yaml'):\n",
    "            with open('./'+str(i)+'.yaml','r')as f:\n",
    "                doc= yaml.load(f)\n",
    "                matches.append(doc)\n",
    "    return matches\n",
    "    "
   ]
  },
  {
   "cell_type": "markdown",
   "metadata": {},
   "source": [
    "### Calling the above function and passing the start and end file names to load the data."
   ]
  },
  {
   "cell_type": "code",
   "execution_count": 3,
   "metadata": {
    "collapsed": true
   },
   "outputs": [],
   "source": [
    "#m_2008 = load_data(335982,336041)"
   ]
  },
  {
   "cell_type": "code",
   "execution_count": 4,
   "metadata": {
    "collapsed": true
   },
   "outputs": [],
   "source": [
    "#m_2009 = load_data(392181,392240 )"
   ]
  },
  {
   "cell_type": "code",
   "execution_count": 5,
   "metadata": {
    "collapsed": true
   },
   "outputs": [],
   "source": [
    "#m_2010 = load_data(419106,419166)"
   ]
  },
  {
   "cell_type": "code",
   "execution_count": 6,
   "metadata": {
    "collapsed": true
   },
   "outputs": [],
   "source": [
    "#m_2011 = load_data(501198, 501272)"
   ]
  },
  {
   "cell_type": "code",
   "execution_count": 7,
   "metadata": {
    "collapsed": true
   },
   "outputs": [],
   "source": [
    "m_2012 = load_data(548306, 548382)"
   ]
  },
  {
   "cell_type": "code",
   "execution_count": 8,
   "metadata": {
    "collapsed": true
   },
   "outputs": [],
   "source": [
    "m_2013 = load_data(597998, 598074)"
   ]
  },
  {
   "cell_type": "code",
   "execution_count": 9,
   "metadata": {
    "collapsed": true
   },
   "outputs": [],
   "source": [
    "m_2014 = load_data(729279, 734050)"
   ]
  },
  {
   "cell_type": "code",
   "execution_count": 10,
   "metadata": {
    "collapsed": true
   },
   "outputs": [],
   "source": [
    "m_2015 = load_data(829705, 829824)"
   ]
  },
  {
   "cell_type": "code",
   "execution_count": 11,
   "metadata": {
    "collapsed": true
   },
   "outputs": [],
   "source": [
    "m_2016 = load_data(980901, 981020)"
   ]
  },
  {
   "cell_type": "code",
   "execution_count": 12,
   "metadata": {
    "collapsed": true
   },
   "outputs": [],
   "source": [
    "m_2017 = load_data(1082591, 1082651)"
   ]
  },
  {
   "cell_type": "code",
   "execution_count": 13,
   "metadata": {
    "collapsed": true
   },
   "outputs": [],
   "source": [
    "os.chdir('C:\\\\Continuum\\\\Anaconda2\\\\envs\\\\TFENV\\\\')"
   ]
  },
  {
   "cell_type": "markdown",
   "metadata": {},
   "source": [
    "### The following function extracts innings information from a SINGLE MATCH,viz runs per over , wickets per over and total runs in each innings in the form of a DICTIONARY object. \n",
    "You need to only pass the innings dict."
   ]
  },
  {
   "cell_type": "code",
   "execution_count": 14,
   "metadata": {
    "collapsed": true
   },
   "outputs": [],
   "source": [
    "def extract_innings_data(innings):\n",
    "    total_runs =0\n",
    "    k=0.0\n",
    "    prev=0.0\n",
    "    over_runs = {}\n",
    "    over_wickets = {}\n",
    "    runs= 0\n",
    "    w_counter = 0\n",
    "    for i in range(0,len(innings)):\n",
    "        #if (i==0):\n",
    "            #print ('Match Started: Over # 1')\n",
    "        for k , v in innings[i].items():\n",
    "            if ((prev//1) != (k//1)):\n",
    "                #print ('Over #', int((prev//1) +1),' completed')\n",
    "                #print ('Runs Scored #',runs)\n",
    "                runs+= int(innings[i][k]['runs']['total'])\n",
    "                if ('wicket' in innings[i][k]):\n",
    "                    w_counter+=1\n",
    "                    over_wickets[k] = [w_counter,innings[i][k]['wicket']['player_out'],innings[i][k]['wicket']['kind']]\n",
    "                    #print (' Over -', k,'Out!!','wicket #',w_counter, innings[i][k]['wicket']['player_out'],innings[i][k]['wicket']['kind'])\n",
    "                over_runs[int((prev//1) +1)]= int(runs)\n",
    "                #print ('Over #', int((k//1) +1),' started and running')\n",
    "                runs = 0\n",
    "            else:\n",
    "                #print ('Over #', int((prev//1) +1),' running')\n",
    "                runs+= int(innings[i][k]['runs']['total'])\n",
    "                if ('wicket' in innings[i][k]):\n",
    "                    w_counter+=1\n",
    "                    over_wickets[k] = [w_counter,innings[i][k]['wicket']['player_out'],innings[i][k]['wicket']['kind']]\n",
    "                    #rint (' Over -', k,'Out!!','wicket #',w_counter, innings[i][k]['wicket']['player_out'],innings[i][k]['wicket']['kind'])\n",
    "            prev = k\n",
    "            total_runs+= innings[i][k]['runs']['total']\n",
    "        if( i == len(innings) -1 ):\n",
    "            #print ('Over #', int((prev//1) +1),' completed')\n",
    "            #print ('Runs Scored #',runs)\n",
    "            over_runs[int((prev//1) +1)]= int(runs)\n",
    "    return over_runs , over_wickets , total_runs"
   ]
  },
  {
   "cell_type": "markdown",
   "metadata": {},
   "source": [
    "### This function wraps the DICTIONARY objects created by the above function for each match and stores the same for all the matches in a season into a LIST object."
   ]
  },
  {
   "cell_type": "code",
   "execution_count": 15,
   "metadata": {
    "collapsed": true
   },
   "outputs": [],
   "source": [
    "def generate_season_data(matches):\n",
    "    rpo_innings1 = []\n",
    "    rpo_innings2 = []\n",
    "    wpo_innings1 = []\n",
    "    wpo_innings2 = []\n",
    "    tr_innings1 = []\n",
    "    tr_innings2 = []\n",
    "    team_innings1 = []\n",
    "    team_innings2 = []\n",
    "    misc_info = []\n",
    "    \n",
    "    for i in range(0,len(matches)):\n",
    "        \n",
    "        if (len(matches[i]['innings']) > 1):\n",
    "            \n",
    "            rpo_i1 , wpo_i1 , tr_i1 = extract_innings_data(matches[i]['innings'][0]['1st innings']['deliveries'])\n",
    "            rpo_innings1.append(rpo_i1)\n",
    "            wpo_innings1.append(wpo_i1)\n",
    "            tr_innings1.append(tr_i1)\n",
    "            team_innings1.append(matches[i]['innings'][0]['1st innings']['team'])\n",
    "        \n",
    "            rpo_i2 , wpo_i2 , tr_i2 = extract_innings_data(matches[i]['innings'][1]['2nd innings']['deliveries'])\n",
    "            rpo_innings2.append(rpo_i2)\n",
    "            wpo_innings2.append(wpo_i2)\n",
    "            tr_innings2.append(tr_i2)\n",
    "            team_innings2.append(matches[i]['innings'][1]['2nd innings']['team'])\n",
    "           \n",
    "            \n",
    "            misc_info.append([matches[i]['info']['venue'],matches[i]['info']['toss']['winner'],matches[i]['info']['toss']['decision'],matches[i]['info']['outcome']])\n",
    "        else :\n",
    "            pass\n",
    "            \n",
    "    return rpo_innings1, rpo_innings2 , wpo_innings1 , wpo_innings2 , tr_innings1, tr_innings2, team_innings1 , team_innings2,misc_info"
   ]
  },
  {
   "cell_type": "markdown",
   "metadata": {},
   "source": [
    "### Calling the above function and creating a series of LIST objects."
   ]
  },
  {
   "cell_type": "code",
   "execution_count": 16,
   "metadata": {
    "collapsed": true
   },
   "outputs": [],
   "source": [
    "#rpo_i1_2008,rpo_i2_2008,wpo_i1_2008,wpo_i2_2008,tr_i1_2008,tr_i2_2008,team_i1_2008,team_i2_2008,misc_info_2008 = generate_season_data(m_2008)\n",
    "#rpo_i1_2009,rpo_i2_2009,wpo_i1_2009,wpo_i2_2009,tr_i1_2009,tr_i2_2009,team_i1_2009,team_i2_2009,misc_info_2009 = generate_season_data(m_2009)\n",
    "#rpo_i1_2010,rpo_i2_2010,wpo_i1_2010,wpo_i2_2010,tr_i1_2010,tr_i2_2010,team_i1_2010,team_i2_2010,misc_info_2010 = generate_season_data(m_2010)\n",
    "#rpo_i1_2011,rpo_i2_2011,wpo_i1_2011,wpo_i2_2011,tr_i1_2011,tr_i2_2011,team_i1_2011,team_i2_2011,misc_info_2011 = generate_season_data(m_2011)\n",
    "rpo_i1_2012,rpo_i2_2012,wpo_i1_2012,wpo_i2_2012,tr_i1_2012,tr_i2_2012,team_i1_2012,team_i2_2012,misc_info_2012 = generate_season_data(m_2012)\n",
    "rpo_i1_2013,rpo_i2_2013,wpo_i1_2013,wpo_i2_2013,tr_i1_2013,tr_i2_2013,team_i1_2013,team_i2_2013,misc_info_2013 = generate_season_data(m_2013)\n",
    "rpo_i1_2014,rpo_i2_2014,wpo_i1_2014,wpo_i2_2014,tr_i1_2014,tr_i2_2014,team_i1_2014,team_i2_2014,misc_info_2014 = generate_season_data(m_2014)\n",
    "rpo_i1_2015,rpo_i2_2015,wpo_i1_2015,wpo_i2_2015,tr_i1_2015,tr_i2_2015,team_i1_2015,team_i2_2015,misc_info_2015 = generate_season_data(m_2015)\n",
    "rpo_i1_2016,rpo_i2_2016,wpo_i1_2016,wpo_i2_2016,tr_i1_2016,tr_i2_2016,team_i1_2016,team_i2_2016,misc_info_2016 = generate_season_data(m_2016)\n",
    "rpo_i1_2017,rpo_i2_2017,wpo_i1_2017,wpo_i2_2017,tr_i1_2017,tr_i2_2017,team_i1_2017,team_i2_2017,misc_info_2017 = generate_season_data(m_2017)"
   ]
  },
  {
   "cell_type": "code",
   "execution_count": 17,
   "metadata": {
    "collapsed": true
   },
   "outputs": [],
   "source": [
    "import matplotlib.pyplot as plt\n",
    "import pandas as pd\n",
    "import numpy as np\n",
    "from sklearn.preprocessing import StandardScaler\n",
    "from sklearn import linear_model \n",
    "%matplotlib inline"
   ]
  },
  {
   "cell_type": "markdown",
   "metadata": {},
   "source": [
    "### This function takes wickets per over dictionary created earlier, and returns the total wickets that has fallen during a match for a particular team."
   ]
  },
  {
   "cell_type": "code",
   "execution_count": 18,
   "metadata": {
    "collapsed": true
   },
   "outputs": [],
   "source": [
    "def add_wpo(wpo):  \n",
    "    wickets= []\n",
    "    for i in range(len(wpo)):\n",
    "        wickets.append([(int(k//1) + 1) for k, v in wpo[i].items()])\n",
    "    wickets_full=[]\n",
    "    for li in wickets:\n",
    "        wickets_full.append([0,0,0,0,0,0,0,0,0,0,0,0,0,0,0,0,0,0,0,0])\n",
    "        for i in li:\n",
    "            if i in range(1,21):\n",
    "                wickets_full[wickets.index(li)][i-1] += 1 \n",
    "    return wickets_full"
   ]
  },
  {
   "cell_type": "markdown",
   "metadata": {},
   "source": [
    "### This function below creates a full Dataset combining all the above extracted information on an innings level."
   ]
  },
  {
   "cell_type": "code",
   "execution_count": 19,
   "metadata": {
    "collapsed": true
   },
   "outputs": [],
   "source": [
    "def create_full_dataset(rpo_inn, tr_inn , wpo_inn, team_inn):\n",
    "    rpo_inn_df = pd.DataFrame.from_dict(rpo_inn)\n",
    "    tr_inn_df = pd.DataFrame(tr_inn, columns =['Total'])\n",
    "    w_inn_df = pd.DataFrame([len(i) for i in wpo_inn], columns = ['wickets'])\n",
    "    runs_wickets_inn_df = w_inn_df.join(tr_inn_df)\n",
    "\n",
    "    wickets_full = add_wpo(wpo_inn)\n",
    "    wickets_df = pd.DataFrame(wickets_full,columns=['wickts_1','wickts_2','wickts_3','wickts_4','wickts_5','wickts_6',\n",
    "                     'wickts_7','wickts_8','wickts_9','wickts_10','wickts_11','wickts_12','wickts_13','wickts_14',\n",
    "                     'wickts_15','wickts_16','wickts_17','wickts_18','wickts_19','wickts_20'])\n",
    "    inn_df = rpo_inn_df.join(wickets_df)\n",
    "    inn_df = inn_df.join(runs_wickets_inn_df)\n",
    "    inn_df.columns = ['runs_1','runs_2','runs_3','runs_4','runs_5','runs_6','runs_7','runs_8','runs_9','runs_10','runs_11','runs_12',\n",
    "                     'runs_13','runs_14','runs_15','runs_16','runs_17','runs_18','runs_19','runs_20','wickts_1','wickts_2',\n",
    "                     'wickts_3','wickts_4','wickts_5','wickts_6','wickts_7','wickts_8','wickts_9','wickts_10','wickts_11',\n",
    "                     'wickts_12','wickts_13','wickts_14','wickts_15','wickts_16','wickts_17','wickts_18','wickts_19','wickts_20',\n",
    "                     'wickets','Total']\n",
    "    inn_df = inn_df.join(pd.DataFrame(team_inn , columns = ['batting_team']))\n",
    "    return inn_df"
   ]
  },
  {
   "cell_type": "code",
   "execution_count": 20,
   "metadata": {
    "collapsed": true
   },
   "outputs": [],
   "source": [
    "i1_df = create_full_dataset(rpo_i1_2012, tr_i1_2012, wpo_i1_2012,team_i1_2012)\n",
    "i2_df = create_full_dataset(rpo_i2_2012, tr_i2_2012, wpo_i2_2012,team_i2_2012)\n"
   ]
  },
  {
   "cell_type": "code",
   "execution_count": 21,
   "metadata": {
    "collapsed": true
   },
   "outputs": [],
   "source": [
    "i1_df_2013 = create_full_dataset(rpo_i1_2013, tr_i1_2013, wpo_i1_2013,team_i1_2013)\n",
    "i2_df_2013 = create_full_dataset(rpo_i2_2013, tr_i2_2013, wpo_i2_2013,team_i2_2013)\n",
    "\n",
    "i1_df_2014 = create_full_dataset(rpo_i1_2014, tr_i1_2014, wpo_i1_2014,team_i1_2014)\n",
    "i2_df_2014 = create_full_dataset(rpo_i2_2014, tr_i2_2014, wpo_i2_2014,team_i2_2014)\n",
    "\n",
    "i1_df_2015 = create_full_dataset(rpo_i1_2015, tr_i1_2015, wpo_i1_2015,team_i1_2015)\n",
    "i2_df_2015 = create_full_dataset(rpo_i2_2015, tr_i2_2015, wpo_i2_2015,team_i2_2015)\n",
    "\n",
    "i1_df_2016 = create_full_dataset(rpo_i1_2016, tr_i1_2016, wpo_i1_2016,team_i1_2016)\n",
    "i2_df_2016 = create_full_dataset(rpo_i2_2016, tr_i2_2016, wpo_i2_2016,team_i2_2016)\n",
    "\n",
    "i1_df_2017 = create_full_dataset(rpo_i1_2017, tr_i1_2017, wpo_i1_2017,team_i1_2017)\n",
    "i2_df_2017 = create_full_dataset(rpo_i2_2017, tr_i2_2017, wpo_i2_2017,team_i2_2017)"
   ]
  },
  {
   "cell_type": "code",
   "execution_count": 22,
   "metadata": {
    "collapsed": true
   },
   "outputs": [],
   "source": [
    "def change_winner(misc):\n",
    "    for n in range(0,len(misc)):\n",
    "        if 'winner' in misc[n][3].keys():\n",
    "            misc[n][3] = misc[n][3]['winner']\n",
    "        else : misc[n][3] = 'NA'\n",
    "    return misc"
   ]
  },
  {
   "cell_type": "code",
   "execution_count": 23,
   "metadata": {
    "collapsed": true
   },
   "outputs": [],
   "source": [
    "misc_info_2012 = change_winner(misc_info_2012)\n",
    "misc_info_2013 = change_winner(misc_info_2013)\n",
    "misc_info_2014 = change_winner(misc_info_2014)\n",
    "misc_info_2015 = change_winner(misc_info_2015)\n",
    "misc_info_2016 = change_winner(misc_info_2016)\n",
    "misc_info_2017 = change_winner(misc_info_2017)"
   ]
  },
  {
   "cell_type": "code",
   "execution_count": 24,
   "metadata": {
    "collapsed": true
   },
   "outputs": [],
   "source": [
    "misc_df = pd.DataFrame(misc_info_2012, columns =['venue','toss_winner','toss_decision','match_winner'])\n",
    "misc_df_2013 = pd.DataFrame(misc_info_2013, columns =['venue','toss_winner','toss_decision','match_winner'])\n",
    "misc_df_2014 = pd.DataFrame(misc_info_2014, columns =['venue','toss_winner','toss_decision','match_winner'])\n",
    "misc_df_2015 = pd.DataFrame(misc_info_2015, columns =['venue','toss_winner','toss_decision','match_winner'])\n",
    "misc_df_2016 = pd.DataFrame(misc_info_2016, columns =['venue','toss_winner','toss_decision','match_winner'])\n",
    "misc_df_2017 = pd.DataFrame(misc_info_2017, columns =['venue','toss_winner','toss_decision','match_winner'])\n"
   ]
  },
  {
   "cell_type": "code",
   "execution_count": 25,
   "metadata": {
    "collapsed": true
   },
   "outputs": [],
   "source": [
    "i1_df_new = i1_df.drop(['runs_1','runs_2','runs_3','runs_4','runs_5','runs_6','runs_7','runs_8','runs_9','runs_10','runs_11','runs_12',\n",
    "                     'runs_13','runs_14','runs_15','runs_16','runs_17','runs_18','runs_19','runs_20','wickts_1','wickts_2',\n",
    "                     'wickts_3','wickts_4','wickts_5','wickts_6','wickts_7','wickts_8','wickts_9','wickts_10','wickts_11',\n",
    "                     'wickts_12','wickts_13','wickts_14','wickts_15','wickts_16','wickts_17','wickts_18','wickts_19','wickts_20']\n",
    "                       , axis=1)\n",
    "\n",
    "i2_df_new = i2_df.drop(['runs_1','runs_2','runs_3','runs_4','runs_5','runs_6','runs_7','runs_8','runs_9','runs_10','runs_11','runs_12',\n",
    "                     'runs_13','runs_14','runs_15','runs_16','runs_17','runs_18','runs_19','runs_20','wickts_1','wickts_2',\n",
    "                     'wickts_3','wickts_4','wickts_5','wickts_6','wickts_7','wickts_8','wickts_9','wickts_10','wickts_11',\n",
    "                     'wickts_12','wickts_13','wickts_14','wickts_15','wickts_16','wickts_17','wickts_18','wickts_19','wickts_20']\n",
    "                       , axis=1)\n",
    "\n",
    "i1_df_2013new = i1_df_2013.drop(['runs_1','runs_2','runs_3','runs_4','runs_5','runs_6','runs_7','runs_8','runs_9','runs_10','runs_11','runs_12',\n",
    "                     'runs_13','runs_14','runs_15','runs_16','runs_17','runs_18','runs_19','runs_20','wickts_1','wickts_2',\n",
    "                     'wickts_3','wickts_4','wickts_5','wickts_6','wickts_7','wickts_8','wickts_9','wickts_10','wickts_11',\n",
    "                     'wickts_12','wickts_13','wickts_14','wickts_15','wickts_16','wickts_17','wickts_18','wickts_19','wickts_20']\n",
    "                       , axis=1)\n",
    "\n",
    "i2_df_2013new = i2_df_2013.drop(['runs_1','runs_2','runs_3','runs_4','runs_5','runs_6','runs_7','runs_8','runs_9','runs_10','runs_11','runs_12',\n",
    "                     'runs_13','runs_14','runs_15','runs_16','runs_17','runs_18','runs_19','runs_20','wickts_1','wickts_2',\n",
    "                     'wickts_3','wickts_4','wickts_5','wickts_6','wickts_7','wickts_8','wickts_9','wickts_10','wickts_11',\n",
    "                     'wickts_12','wickts_13','wickts_14','wickts_15','wickts_16','wickts_17','wickts_18','wickts_19','wickts_20']\n",
    "                       , axis=1)\n",
    "i1_df_2014new = i1_df_2014.drop(['runs_1','runs_2','runs_3','runs_4','runs_5','runs_6','runs_7','runs_8','runs_9','runs_10','runs_11','runs_12',\n",
    "                     'runs_13','runs_14','runs_15','runs_16','runs_17','runs_18','runs_19','runs_20','wickts_1','wickts_2',\n",
    "                     'wickts_3','wickts_4','wickts_5','wickts_6','wickts_7','wickts_8','wickts_9','wickts_10','wickts_11',\n",
    "                     'wickts_12','wickts_13','wickts_14','wickts_15','wickts_16','wickts_17','wickts_18','wickts_19','wickts_20']\n",
    "                       , axis=1)\n",
    "\n",
    "i2_df_2014new = i2_df_2014.drop(['runs_1','runs_2','runs_3','runs_4','runs_5','runs_6','runs_7','runs_8','runs_9','runs_10','runs_11','runs_12',\n",
    "                     'runs_13','runs_14','runs_15','runs_16','runs_17','runs_18','runs_19','runs_20','wickts_1','wickts_2',\n",
    "                     'wickts_3','wickts_4','wickts_5','wickts_6','wickts_7','wickts_8','wickts_9','wickts_10','wickts_11',\n",
    "                     'wickts_12','wickts_13','wickts_14','wickts_15','wickts_16','wickts_17','wickts_18','wickts_19','wickts_20']\n",
    "                       , axis=1)\n",
    "i1_df_2015new = i1_df_2015.drop(['runs_1','runs_2','runs_3','runs_4','runs_5','runs_6','runs_7','runs_8','runs_9','runs_10','runs_11','runs_12',\n",
    "                     'runs_13','runs_14','runs_15','runs_16','runs_17','runs_18','runs_19','runs_20','wickts_1','wickts_2',\n",
    "                     'wickts_3','wickts_4','wickts_5','wickts_6','wickts_7','wickts_8','wickts_9','wickts_10','wickts_11',\n",
    "                     'wickts_12','wickts_13','wickts_14','wickts_15','wickts_16','wickts_17','wickts_18','wickts_19','wickts_20']\n",
    "                       , axis=1)\n",
    "\n",
    "i2_df_2015new = i2_df_2015.drop(['runs_1','runs_2','runs_3','runs_4','runs_5','runs_6','runs_7','runs_8','runs_9','runs_10','runs_11','runs_12',\n",
    "                     'runs_13','runs_14','runs_15','runs_16','runs_17','runs_18','runs_19','runs_20','wickts_1','wickts_2',\n",
    "                     'wickts_3','wickts_4','wickts_5','wickts_6','wickts_7','wickts_8','wickts_9','wickts_10','wickts_11',\n",
    "                     'wickts_12','wickts_13','wickts_14','wickts_15','wickts_16','wickts_17','wickts_18','wickts_19','wickts_20']\n",
    "                       , axis=1)\n",
    "i1_df_2016new = i1_df_2016.drop(['runs_1','runs_2','runs_3','runs_4','runs_5','runs_6','runs_7','runs_8','runs_9','runs_10','runs_11','runs_12',\n",
    "                     'runs_13','runs_14','runs_15','runs_16','runs_17','runs_18','runs_19','runs_20','wickts_1','wickts_2',\n",
    "                     'wickts_3','wickts_4','wickts_5','wickts_6','wickts_7','wickts_8','wickts_9','wickts_10','wickts_11',\n",
    "                     'wickts_12','wickts_13','wickts_14','wickts_15','wickts_16','wickts_17','wickts_18','wickts_19','wickts_20']\n",
    "                       , axis=1)\n",
    "\n",
    "i2_df_2016new = i2_df_2016.drop(['runs_1','runs_2','runs_3','runs_4','runs_5','runs_6','runs_7','runs_8','runs_9','runs_10','runs_11','runs_12',\n",
    "                     'runs_13','runs_14','runs_15','runs_16','runs_17','runs_18','runs_19','runs_20','wickts_1','wickts_2',\n",
    "                     'wickts_3','wickts_4','wickts_5','wickts_6','wickts_7','wickts_8','wickts_9','wickts_10','wickts_11',\n",
    "                     'wickts_12','wickts_13','wickts_14','wickts_15','wickts_16','wickts_17','wickts_18','wickts_19','wickts_20']\n",
    "                       , axis=1)\n",
    "i1_df_2017new = i1_df_2017.drop(['runs_1','runs_2','runs_3','runs_4','runs_5','runs_6','runs_7','runs_8','runs_9','runs_10','runs_11','runs_12',\n",
    "                     'runs_13','runs_14','runs_15','runs_16','runs_17','runs_18','runs_19','runs_20','wickts_1','wickts_2',\n",
    "                     'wickts_3','wickts_4','wickts_5','wickts_6','wickts_7','wickts_8','wickts_9','wickts_10','wickts_11',\n",
    "                     'wickts_12','wickts_13','wickts_14','wickts_15','wickts_16','wickts_17','wickts_18','wickts_19','wickts_20']\n",
    "                       , axis=1)\n",
    "\n",
    "i2_df_2017new = i2_df_2017.drop(['runs_1','runs_2','runs_3','runs_4','runs_5','runs_6','runs_7','runs_8','runs_9','runs_10','runs_11','runs_12',\n",
    "                     'runs_13','runs_14','runs_15','runs_16','runs_17','runs_18','runs_19','runs_20','wickts_1','wickts_2',\n",
    "                     'wickts_3','wickts_4','wickts_5','wickts_6','wickts_7','wickts_8','wickts_9','wickts_10','wickts_11',\n",
    "                     'wickts_12','wickts_13','wickts_14','wickts_15','wickts_16','wickts_17','wickts_18','wickts_19','wickts_20']\n",
    "                       , axis=1)"
   ]
  },
  {
   "cell_type": "code",
   "execution_count": 26,
   "metadata": {
    "collapsed": true
   },
   "outputs": [],
   "source": [
    "i1_df_new = i1_df_new.join(misc_df)\n",
    "i2_df_new = i2_df_new.join(misc_df)\n",
    "\n",
    "i1_df_2013new = i1_df_2013new.join(misc_df_2013)\n",
    "i2_df_2013new = i2_df_2013new.join(misc_df_2013)\n",
    "\n",
    "i1_df_2014new = i1_df_2014new.join(misc_df_2014)\n",
    "i2_df_2014new = i2_df_2014new.join(misc_df_2014)\n",
    "\n",
    "i1_df_2015new = i1_df_2015new.join(misc_df_2015)\n",
    "i2_df_2015new = i2_df_2015new.join(misc_df_2015)\n",
    "\n",
    "i1_df_2016new = i1_df_2016new.join(misc_df_2016)\n",
    "i2_df_2016new = i2_df_2016new.join(misc_df_2016)\n",
    "\n",
    "i1_df_2017new = i1_df_2017new.join(misc_df_2017)\n",
    "i2_df_2017new = i2_df_2017new.join(misc_df_2017)"
   ]
  },
  {
   "cell_type": "code",
   "execution_count": 27,
   "metadata": {
    "collapsed": true
   },
   "outputs": [],
   "source": [
    "i1_df_new = i1_df_new.join(pd.DataFrame(list(i1_df['wickts_1'] + i1_df['wickts_2']+ i1_df['wickts_3']+ i1_df['wickts_4']+ \n",
    "                                             i1_df['wickts_5']+ i1_df['wickts_6']),columns=['wickets_6overs']))\n",
    "i2_df_new = i2_df_new.join(pd.DataFrame(list(i2_df['wickts_1'] + i2_df['wickts_2']+ i2_df['wickts_3']+ i2_df['wickts_4']+ \n",
    "                                             i2_df['wickts_5']+ i2_df['wickts_6']),columns=['wickets_6overs']))\n",
    "\n",
    "i1_df_2013new = i1_df_2013new.join(pd.DataFrame(list(i1_df_2013['wickts_1'] + i1_df_2013['wickts_2']+ i1_df_2013['wickts_3']+ \n",
    "                            i1_df_2013['wickts_4']+ i1_df_2013['wickts_5']+ i1_df_2013['wickts_6']),columns=['wickets_6overs']))\n",
    "i2_df_2013new = i2_df_2013new.join(pd.DataFrame(list(i2_df_2013['wickts_1'] + i2_df_2013['wickts_2']+ i2_df_2013['wickts_3']+ \n",
    "                            i2_df_2013['wickts_4']+ i2_df_2013['wickts_5']+ i2_df_2013['wickts_6']),columns=['wickets_6overs']))\n",
    "\n",
    "i1_df_2014new = i1_df_2014new.join(pd.DataFrame(list(i1_df_2014['wickts_1'] + i1_df_2014['wickts_2']+ i1_df_2014['wickts_3']+ \n",
    "                            i1_df_2014['wickts_4']+ i1_df_2014['wickts_5']+ i1_df_2014['wickts_6']),columns=['wickets_6overs']))\n",
    "i2_df_2014new = i2_df_2014new.join(pd.DataFrame(list(i2_df_2014['wickts_1'] + i2_df_2014['wickts_2']+ i2_df_2014['wickts_3']+ \n",
    "                            i2_df_2014['wickts_4']+ i2_df_2014['wickts_5']+ i2_df_2014['wickts_6']),columns=['wickets_6overs']))\n",
    "\n",
    "i1_df_2015new = i1_df_2015new.join(pd.DataFrame(list(i1_df_2015['wickts_1'] + i1_df_2015['wickts_2']+ i1_df_2015['wickts_3']+\n",
    "                            i1_df_2015['wickts_4']+ i1_df_2015['wickts_5']+ i1_df_2015['wickts_6']),columns=['wickets_6overs']))\n",
    "i2_df_2015new = i2_df_2015new.join(pd.DataFrame(list(i2_df_2015['wickts_1'] + i2_df_2015['wickts_2']+ i2_df_2015['wickts_3']+ \n",
    "                            i2_df_2015['wickts_4']+ i2_df_2015['wickts_5']+ i2_df_2015['wickts_6']),columns=['wickets_6overs']))\n",
    "\n",
    "i1_df_2016new = i1_df_2016new.join(pd.DataFrame(list(i1_df_2016['wickts_1'] + i1_df_2016['wickts_2']+ i1_df_2016['wickts_3']+ \n",
    "                            i1_df_2016['wickts_4']+ i1_df_2016['wickts_5']+ i1_df_2016['wickts_6']),columns=['wickets_6overs']))\n",
    "i2_df_2016new = i2_df_2016new.join(pd.DataFrame(list(i2_df_2016['wickts_1'] + i2_df_2016['wickts_2']+ i2_df_2016['wickts_3']+ \n",
    "                            i2_df_2016['wickts_4']+ i2_df_2016['wickts_5']+ i2_df_2016['wickts_6']),columns=['wickets_6overs']))\n",
    "\n",
    "i1_df_2017new = i1_df_2017new.join(pd.DataFrame(list(i1_df_2017['wickts_1'] + i1_df_2017['wickts_2']+ i1_df_2017['wickts_3']+ \n",
    "                            i1_df_2017['wickts_4']+ i1_df_2017['wickts_5']+ i1_df_2017['wickts_6']),columns=['wickets_6overs']))\n",
    "i2_df_2017new = i2_df_2017new.join(pd.DataFrame(list(i2_df_2017['wickts_1'] + i2_df_2017['wickts_2']+ i2_df_2017['wickts_3']+ \n",
    "                            i2_df_2017['wickts_4']+ i2_df_2017['wickts_5']+ i2_df_2017['wickts_6']),columns=['wickets_6overs']))"
   ]
  },
  {
   "cell_type": "code",
   "execution_count": 28,
   "metadata": {
    "collapsed": true
   },
   "outputs": [],
   "source": [
    "i1_df_new = i1_df_new.join(pd.DataFrame(list(i1_df['runs_1'] + i1_df['runs_2']+ i1_df['runs_3']+ i1_df['runs_4']+ \n",
    "                                             i1_df['runs_5']+ i1_df['runs_6']),columns=['runs_6overs']))\n",
    "i2_df_new = i2_df_new.join(pd.DataFrame(list(i2_df['runs_1'] + i2_df['runs_2']+ i2_df['runs_3']+ i2_df['runs_4']+ \n",
    "                                             i2_df['runs_5']+ i2_df['runs_6']),columns=['runs_6overs']))\n",
    "\n",
    "i1_df_2013new = i1_df_2013new.join(pd.DataFrame(list(i1_df_2013['runs_1'] + i1_df_2013['runs_2']+ i1_df_2013['runs_3']+ \n",
    "                                i1_df_2013['runs_4']+ i1_df_2013['runs_5']+ i1_df_2013['runs_6']),columns=['runs_6overs']))\n",
    "i2_df_2013new = i2_df_2013new.join(pd.DataFrame(list(i2_df_2013['runs_1'] + i2_df_2013['runs_2']+ i2_df_2013['runs_3']+ \n",
    "                                i2_df_2013['runs_4']+ i2_df_2013['runs_5']+ i2_df_2013['runs_6']),columns=['runs_6overs']))\n",
    "\n",
    "i1_df_2014new = i1_df_2014new.join(pd.DataFrame(list(i1_df_2014['runs_1'] + i1_df_2014['runs_2']+ i1_df_2014['runs_3']+ \n",
    "                                i1_df_2014['runs_4']+ i1_df_2014['runs_5']+ i1_df_2014['runs_6']),columns=['runs_6overs']))\n",
    "i2_df_2014new = i2_df_2014new.join(pd.DataFrame(list(i2_df_2014['runs_1'] + i2_df_2014['runs_2']+ i2_df_2014['runs_3']+ \n",
    "                                i2_df_2014['runs_4']+ i2_df_2014['runs_5']+ i2_df_2014['runs_6']),columns=['runs_6overs']))\n",
    "\n",
    "i1_df_2015new = i1_df_2015new.join(pd.DataFrame(list(i1_df_2015['runs_1'] + i1_df_2015['runs_2']+ i1_df_2015['runs_3']+ \n",
    "                                i1_df_2015['runs_4']+ i1_df_2015['runs_5']+ i1_df_2015['runs_6']),columns=['runs_6overs']))\n",
    "i2_df_2015new = i2_df_2015new.join(pd.DataFrame(list(i2_df_2015['runs_1'] + i2_df_2015['runs_2']+ i2_df_2015['runs_3']+ \n",
    "                              i2_df_2015['runs_4']+ i2_df_2015['runs_5']+ i2_df_2015['runs_6']),columns=['runs_6overs']))\n",
    "\n",
    "i1_df_2016new = i1_df_2016new.join(pd.DataFrame(list(i1_df_2016['runs_1'] + i1_df_2016['runs_2']+ i1_df_2016['runs_3']+\n",
    "                               i1_df_2016['runs_4']+ i1_df_2016['runs_5']+ i1_df_2016['runs_6']),columns=['runs_6overs']))\n",
    "i2_df_2016new = i2_df_2016new.join(pd.DataFrame(list(i2_df_2016['runs_1'] + i2_df_2016['runs_2']+ i2_df_2016['runs_3']+ \n",
    "                              i2_df_2016['runs_4']+ i2_df_2016['runs_5']+ i2_df_2016['runs_6']),columns=['runs_6overs']))\n",
    "\n",
    "i1_df_2017new = i1_df_2017new.join(pd.DataFrame(list(i1_df_2017['runs_1'] + i1_df_2017['runs_2']+ i1_df_2017['runs_3']+ \n",
    "                              i1_df_2017['runs_4']+  i1_df_2017['runs_5']+ i1_df_2017['runs_6']),columns=['runs_6overs']))\n",
    "i2_df_2017new = i2_df_2017new.join(pd.DataFrame(list(i2_df_2017['runs_1'] + i2_df_2017['runs_2']+ i2_df_2017['runs_3']+ \n",
    "                               i2_df_2017['runs_4']+ i2_df_2017['runs_5']+ i2_df_2017['runs_6']),columns=['runs_6overs']))"
   ]
  },
  {
   "cell_type": "code",
   "execution_count": 29,
   "metadata": {
    "collapsed": true
   },
   "outputs": [],
   "source": [
    "i1_df_new['toss'] = 0\n",
    "i2_df_new['toss'] = 0\n",
    "\n",
    "i1_df_new.loc[i1_df_new['batting_team'] == i1_df_new['toss_winner'],'toss'] = 1\n",
    "i2_df_new.loc[i2_df_new['batting_team'] == i2_df_new['toss_winner'],'toss'] = 1\n",
    "\n",
    "\n",
    "i1_df_2013new['toss'] = 0\n",
    "i2_df_2013new['toss'] = 0\n",
    "\n",
    "i1_df_2013new.loc[i1_df_2013new['batting_team'] == i1_df_2013new['toss_winner'],'toss'] = 1\n",
    "i2_df_2013new.loc[i2_df_2013new['batting_team'] == i2_df_2013new['toss_winner'],'toss'] = 1\n",
    "\n",
    "i1_df_2014new['toss'] = 0\n",
    "i2_df_2014new['toss'] = 0\n",
    "\n",
    "i1_df_2014new.loc[i1_df_2014new['batting_team'] == i1_df_2014new['toss_winner'],'toss'] = 1\n",
    "i2_df_2014new.loc[i2_df_2014new['batting_team'] == i2_df_2014new['toss_winner'],'toss'] = 1\n",
    "\n",
    "\n",
    "i1_df_2015new['toss'] = 0\n",
    "i2_df_2015new['toss'] = 0\n",
    "\n",
    "i1_df_2015new.loc[i1_df_2015new['batting_team'] == i1_df_2015new['toss_winner'],'toss'] = 1\n",
    "i2_df_2015new.loc[i2_df_2015new['batting_team'] == i2_df_2015new['toss_winner'],'toss'] = 1\n",
    "\n",
    "\n",
    "i1_df_2016new['toss'] = 0\n",
    "i2_df_2016new['toss'] = 0\n",
    "\n",
    "i1_df_2016new.loc[i1_df_2016new['batting_team'] == i1_df_2016new['toss_winner'],'toss'] = 1\n",
    "i2_df_2016new.loc[i2_df_2016new['batting_team'] == i2_df_2016new['toss_winner'],'toss'] = 1\n",
    "\n",
    "\n",
    "i1_df_2017new['toss'] = 0\n",
    "i2_df_2017new['toss'] = 0\n",
    "\n",
    "i1_df_2017new.loc[i1_df_2017new['batting_team'] == i1_df_2017new['toss_winner'],'toss'] = 1\n",
    "i2_df_2017new.loc[i2_df_2017new['batting_team'] == i2_df_2017new['toss_winner'],'toss'] = 1"
   ]
  },
  {
   "cell_type": "code",
   "execution_count": 30,
   "metadata": {
    "collapsed": true
   },
   "outputs": [],
   "source": [
    "i1_df_new['year'] = 2012\n",
    "i2_df_new['year'] = 2012\n",
    "\n",
    "i1_df_2013new['year'] = 2013\n",
    "i2_df_2013new['year'] = 2013\n",
    "\n",
    "i1_df_2014new['year'] = 2014\n",
    "i2_df_2014new['year'] = 2014\n",
    "\n",
    "i1_df_2015new['year'] = 2015\n",
    "i2_df_2015new['year'] = 2015\n",
    "\n",
    "i1_df_2016new['year'] = 2016\n",
    "i2_df_2016new['year'] = 2016\n",
    "\n",
    "i1_df_2017new['year'] = 2017\n",
    "i2_df_2017new['year'] = 2017"
   ]
  },
  {
   "cell_type": "code",
   "execution_count": 31,
   "metadata": {
    "collapsed": true
   },
   "outputs": [],
   "source": [
    "i1_df_new['winner'] = 0\n",
    "i2_df_new['winner'] = 0\n",
    "\n",
    "i1_df_new.loc[i1_df_new['batting_team'] == i1_df_new['match_winner'],'winner'] = 1\n",
    "i2_df_new.loc[i2_df_new['batting_team'] == i2_df_new['match_winner'],'winner'] = 1\n",
    "\n",
    "i1_df_2013new['winner'] = 0\n",
    "i2_df_2013new['winner'] = 0\n",
    "\n",
    "i1_df_2013new.loc[i1_df_2013new['batting_team'] == i1_df_2013new['match_winner'],'winner'] = 1\n",
    "i2_df_2013new.loc[i2_df_2013new['batting_team'] == i2_df_2013new['match_winner'],'winner'] = 1\n",
    "\n",
    "i1_df_2014new['winner'] = 0\n",
    "i2_df_2014new['winner'] = 0\n",
    "\n",
    "i1_df_2014new.loc[i1_df_2014new['batting_team'] == i1_df_2014new['match_winner'],'winner'] = 1\n",
    "i2_df_2014new.loc[i2_df_2014new['batting_team'] == i2_df_2014new['match_winner'],'winner'] = 1\n",
    "\n",
    "i1_df_2015new['winner'] = 0\n",
    "i2_df_2015new['winner'] = 0\n",
    "\n",
    "i1_df_2015new.loc[i1_df_2015new['batting_team'] == i1_df_2015new['match_winner'],'winner'] = 1\n",
    "i2_df_2015new.loc[i2_df_2015new['batting_team'] == i2_df_2015new['match_winner'],'winner'] = 1\n",
    "\n",
    "i1_df_2016new['winner'] = 0\n",
    "i2_df_2016new['winner'] = 0\n",
    "\n",
    "i1_df_2016new.loc[i1_df_2016new['batting_team'] == i1_df_2016new['match_winner'],'winner'] = 1\n",
    "i2_df_2016new.loc[i2_df_2016new['batting_team'] == i2_df_2016new['match_winner'],'winner'] = 1\n",
    "\n",
    "i1_df_2017new['winner'] = 0\n",
    "i2_df_2017new['winner'] = 0\n",
    "\n",
    "i1_df_2017new.loc[i1_df_2017new['batting_team'] == i1_df_2017new['match_winner'],'winner'] = 1\n",
    "i2_df_2017new.loc[i2_df_2017new['batting_team'] == i2_df_2017new['match_winner'],'winner'] = 1\n",
    "\n"
   ]
  },
  {
   "cell_type": "code",
   "execution_count": 32,
   "metadata": {
    "collapsed": true
   },
   "outputs": [],
   "source": [
    "i1_df_new.drop(['toss_winner','toss_decision'],axis=1,inplace=True)\n",
    "i2_df_new.drop(['toss_winner','toss_decision'],axis=1,inplace=True)\n",
    "\n",
    "i1_df_2013new.drop(['toss_winner','toss_decision'],axis=1,inplace=True)\n",
    "i2_df_2013new.drop(['toss_winner','toss_decision'],axis=1,inplace=True)\n",
    "\n",
    "i1_df_2014new.drop(['toss_winner','toss_decision'],axis=1,inplace=True)\n",
    "i2_df_2014new.drop(['toss_winner','toss_decision'],axis=1,inplace=True)\n",
    "\n",
    "i1_df_2015new.drop(['toss_winner','toss_decision'],axis=1,inplace=True)\n",
    "i2_df_2015new.drop(['toss_winner','toss_decision'],axis=1,inplace=True)\n",
    "\n",
    "i1_df_2016new.drop(['toss_winner','toss_decision'],axis=1,inplace=True)\n",
    "i2_df_2016new.drop(['toss_winner','toss_decision'],axis=1,inplace=True)\n",
    "\n",
    "i1_df_2017new.drop(['toss_winner','toss_decision'],axis=1,inplace=True)\n",
    "i2_df_2017new.drop(['toss_winner','toss_decision'],axis=1,inplace=True)"
   ]
  },
  {
   "cell_type": "code",
   "execution_count": 33,
   "metadata": {
    "collapsed": true
   },
   "outputs": [],
   "source": [
    "#i1_df_new = i1_df_new.join(pd.get_dummies(i1_df_new['venue']))"
   ]
  },
  {
   "cell_type": "code",
   "execution_count": 34,
   "metadata": {
    "collapsed": true
   },
   "outputs": [],
   "source": [
    "i1_full = i1_df_new.append(i1_df_2013new.append(i1_df_2014new.append(i1_df_2015new.append(i1_df_2016new.append(i1_df_2017new)))))\n",
    "i2_full = i2_df_new.append(i2_df_2013new.append(i2_df_2014new.append(i2_df_2015new.append(i2_df_2016new.append(i2_df_2017new)))))"
   ]
  },
  {
   "cell_type": "code",
   "execution_count": 35,
   "metadata": {
    "collapsed": true
   },
   "outputs": [],
   "source": [
    "i1_full.loc[i1_full['batting_team'] == 'Rising Pune Supergiant','batting_team'] = 'Rising Pune Supergiants'\n",
    "i2_full.loc[i2_full['batting_team'] == 'Rising Pune Supergiant','batting_team'] = 'Rising Pune Supergiants'"
   ]
  },
  {
   "cell_type": "code",
   "execution_count": 36,
   "metadata": {
    "collapsed": true,
    "scrolled": false
   },
   "outputs": [],
   "source": [
    "#i1_full.to_csv('Innings1_Full_data.csv')\n",
    "#i2_full.to_csv('Innings2_Full_data.csv')\n",
    "\n",
    "#i1_full"
   ]
  },
  {
   "cell_type": "code",
   "execution_count": 37,
   "metadata": {
    "collapsed": true
   },
   "outputs": [],
   "source": [
    "i1_full['toss_and_match_winner'] = 0\n",
    "i1_full.loc[(i1_full['toss'] == 1) & (i1_full['winner'] == 1),'toss_and_match_winner'] = 1\n",
    "\n",
    "i1_full['toss_and_match_loser'] = 0\n",
    "i1_full.loc[(i1_full['toss'] == 0) & (i1_full['winner'] == 0),'toss_and_match_loser'] = 1\n",
    "\n",
    "i1_full['toss_win_match_lose'] = 0\n",
    "i1_full.loc[(i1_full['toss'] == 1) & (i1_full['winner'] == 0),'toss_win_match_lose'] = 1\n",
    "\n",
    "i1_full['toss_lose_match_win'] = 0\n",
    "i1_full.loc[(i1_full['toss'] == 0) & (i1_full['winner'] == 1),'toss_lose_match_win'] = 1\n",
    "\n",
    "i2_full['toss_and_match_winner'] = 0\n",
    "i2_full.loc[(i2_full['toss'] == 1) & (i2_full['winner'] == 1),'toss_and_match_winner'] = 1\n",
    "\n",
    "i2_full['toss_and_match_loser'] = 0\n",
    "i2_full.loc[(i2_full['toss'] == 0) & (i2_full['winner'] == 0),'toss_and_match_loser'] = 1\n",
    "\n",
    "i2_full['toss_win_match_lose'] = 0\n",
    "i2_full.loc[(i2_full['toss'] == 1) & (i2_full['winner'] == 0),'toss_win_match_lose'] = 1\n",
    "\n",
    "i2_full['toss_lose_match_win'] = 0\n",
    "i2_full.loc[(i2_full['toss'] == 0) & (i2_full['winner'] == 1),'toss_lose_match_win'] = 1"
   ]
  },
  {
   "cell_type": "markdown",
   "metadata": {},
   "source": [
    "### Function to create Venue-wise and innings-wise match result "
   ]
  },
  {
   "cell_type": "code",
   "execution_count": 38,
   "metadata": {
    "collapsed": true
   },
   "outputs": [],
   "source": [
    "from collections import OrderedDict"
   ]
  },
  {
   "cell_type": "code",
   "execution_count": 39,
   "metadata": {
    "collapsed": true
   },
   "outputs": [],
   "source": [
    "def agg_wkts_runs_by(df,para):\n",
    "    result = df.groupby(para,as_index=False).agg(OrderedDict([('winner','count'),('wickets','mean'),\n",
    "                                   ('Total','mean'),('toss_and_match_winner','sum'),\n",
    "                                   ('toss_and_match_loser','sum'),('toss_win_match_lose','sum'),\n",
    "                                   ('toss_lose_match_win','sum')])).round().rename(columns =\n",
    "                                                                                   {'winner':'Matches','Total':'Score',\n",
    "                                                                                  'wickets':'Wickets'})\n",
    "    return result"
   ]
  },
  {
   "cell_type": "markdown",
   "metadata": {},
   "source": [
    "### Teams win-lose stats when Batting in 1st innings"
   ]
  },
  {
   "cell_type": "code",
   "execution_count": 40,
   "metadata": {},
   "outputs": [
    {
     "data": {
      "text/html": [
       "<div>\n",
       "<style>\n",
       "    .dataframe thead tr:only-child th {\n",
       "        text-align: right;\n",
       "    }\n",
       "\n",
       "    .dataframe thead th {\n",
       "        text-align: left;\n",
       "    }\n",
       "\n",
       "    .dataframe tbody tr th {\n",
       "        vertical-align: top;\n",
       "    }\n",
       "</style>\n",
       "<table border=\"1\" class=\"dataframe\">\n",
       "  <thead>\n",
       "    <tr style=\"text-align: right;\">\n",
       "      <th></th>\n",
       "      <th>batting_team</th>\n",
       "      <th>Matches</th>\n",
       "      <th>Wickets</th>\n",
       "      <th>Score</th>\n",
       "      <th>toss_and_match_winner</th>\n",
       "      <th>toss_and_match_loser</th>\n",
       "      <th>toss_win_match_lose</th>\n",
       "      <th>toss_lose_match_win</th>\n",
       "    </tr>\n",
       "  </thead>\n",
       "  <tbody>\n",
       "    <tr>\n",
       "      <th>0</th>\n",
       "      <td>Chennai Super Kings</td>\n",
       "      <td>38</td>\n",
       "      <td>5.0</td>\n",
       "      <td>165.0</td>\n",
       "      <td>12</td>\n",
       "      <td>8</td>\n",
       "      <td>8</td>\n",
       "      <td>10</td>\n",
       "    </tr>\n",
       "    <tr>\n",
       "      <th>1</th>\n",
       "      <td>Deccan Chargers</td>\n",
       "      <td>11</td>\n",
       "      <td>6.0</td>\n",
       "      <td>161.0</td>\n",
       "      <td>2</td>\n",
       "      <td>3</td>\n",
       "      <td>5</td>\n",
       "      <td>1</td>\n",
       "    </tr>\n",
       "    <tr>\n",
       "      <th>2</th>\n",
       "      <td>Delhi Daredevils</td>\n",
       "      <td>37</td>\n",
       "      <td>7.0</td>\n",
       "      <td>150.0</td>\n",
       "      <td>4</td>\n",
       "      <td>20</td>\n",
       "      <td>7</td>\n",
       "      <td>6</td>\n",
       "    </tr>\n",
       "    <tr>\n",
       "      <th>3</th>\n",
       "      <td>Gujarat Lions</td>\n",
       "      <td>14</td>\n",
       "      <td>7.0</td>\n",
       "      <td>162.0</td>\n",
       "      <td>0</td>\n",
       "      <td>12</td>\n",
       "      <td>1</td>\n",
       "      <td>1</td>\n",
       "    </tr>\n",
       "    <tr>\n",
       "      <th>4</th>\n",
       "      <td>Kings XI Punjab</td>\n",
       "      <td>49</td>\n",
       "      <td>7.0</td>\n",
       "      <td>160.0</td>\n",
       "      <td>1</td>\n",
       "      <td>18</td>\n",
       "      <td>11</td>\n",
       "      <td>19</td>\n",
       "    </tr>\n",
       "    <tr>\n",
       "      <th>5</th>\n",
       "      <td>Kolkata Knight Riders</td>\n",
       "      <td>37</td>\n",
       "      <td>6.0</td>\n",
       "      <td>156.0</td>\n",
       "      <td>8</td>\n",
       "      <td>14</td>\n",
       "      <td>5</td>\n",
       "      <td>10</td>\n",
       "    </tr>\n",
       "    <tr>\n",
       "      <th>6</th>\n",
       "      <td>Mumbai Indians</td>\n",
       "      <td>49</td>\n",
       "      <td>6.0</td>\n",
       "      <td>163.0</td>\n",
       "      <td>15</td>\n",
       "      <td>11</td>\n",
       "      <td>10</td>\n",
       "      <td>13</td>\n",
       "    </tr>\n",
       "    <tr>\n",
       "      <th>7</th>\n",
       "      <td>Pune Warriors</td>\n",
       "      <td>14</td>\n",
       "      <td>6.0</td>\n",
       "      <td>152.0</td>\n",
       "      <td>3</td>\n",
       "      <td>2</td>\n",
       "      <td>6</td>\n",
       "      <td>3</td>\n",
       "    </tr>\n",
       "    <tr>\n",
       "      <th>8</th>\n",
       "      <td>Rajasthan Royals</td>\n",
       "      <td>30</td>\n",
       "      <td>6.0</td>\n",
       "      <td>163.0</td>\n",
       "      <td>6</td>\n",
       "      <td>6</td>\n",
       "      <td>11</td>\n",
       "      <td>7</td>\n",
       "    </tr>\n",
       "    <tr>\n",
       "      <th>9</th>\n",
       "      <td>Rising Pune Supergiants</td>\n",
       "      <td>15</td>\n",
       "      <td>6.0</td>\n",
       "      <td>162.0</td>\n",
       "      <td>0</td>\n",
       "      <td>7</td>\n",
       "      <td>3</td>\n",
       "      <td>5</td>\n",
       "    </tr>\n",
       "    <tr>\n",
       "      <th>10</th>\n",
       "      <td>Royal Challengers Bangalore</td>\n",
       "      <td>47</td>\n",
       "      <td>5.0</td>\n",
       "      <td>173.0</td>\n",
       "      <td>5</td>\n",
       "      <td>19</td>\n",
       "      <td>7</td>\n",
       "      <td>16</td>\n",
       "    </tr>\n",
       "    <tr>\n",
       "      <th>11</th>\n",
       "      <td>Sunrisers Hyderabad</td>\n",
       "      <td>46</td>\n",
       "      <td>6.0</td>\n",
       "      <td>161.0</td>\n",
       "      <td>7</td>\n",
       "      <td>12</td>\n",
       "      <td>11</td>\n",
       "      <td>16</td>\n",
       "    </tr>\n",
       "  </tbody>\n",
       "</table>\n",
       "</div>"
      ],
      "text/plain": [
       "                   batting_team  Matches  Wickets  Score  \\\n",
       "0           Chennai Super Kings       38      5.0  165.0   \n",
       "1               Deccan Chargers       11      6.0  161.0   \n",
       "2              Delhi Daredevils       37      7.0  150.0   \n",
       "3                 Gujarat Lions       14      7.0  162.0   \n",
       "4               Kings XI Punjab       49      7.0  160.0   \n",
       "5         Kolkata Knight Riders       37      6.0  156.0   \n",
       "6                Mumbai Indians       49      6.0  163.0   \n",
       "7                 Pune Warriors       14      6.0  152.0   \n",
       "8              Rajasthan Royals       30      6.0  163.0   \n",
       "9       Rising Pune Supergiants       15      6.0  162.0   \n",
       "10  Royal Challengers Bangalore       47      5.0  173.0   \n",
       "11          Sunrisers Hyderabad       46      6.0  161.0   \n",
       "\n",
       "    toss_and_match_winner  toss_and_match_loser  toss_win_match_lose  \\\n",
       "0                      12                     8                    8   \n",
       "1                       2                     3                    5   \n",
       "2                       4                    20                    7   \n",
       "3                       0                    12                    1   \n",
       "4                       1                    18                   11   \n",
       "5                       8                    14                    5   \n",
       "6                      15                    11                   10   \n",
       "7                       3                     2                    6   \n",
       "8                       6                     6                   11   \n",
       "9                       0                     7                    3   \n",
       "10                      5                    19                    7   \n",
       "11                      7                    12                   11   \n",
       "\n",
       "    toss_lose_match_win  \n",
       "0                    10  \n",
       "1                     1  \n",
       "2                     6  \n",
       "3                     1  \n",
       "4                    19  \n",
       "5                    10  \n",
       "6                    13  \n",
       "7                     3  \n",
       "8                     7  \n",
       "9                     5  \n",
       "10                   16  \n",
       "11                   16  "
      ]
     },
     "execution_count": 40,
     "metadata": {},
     "output_type": "execute_result"
    }
   ],
   "source": [
    "i1_teams_agg = agg_wkts_runs_by(i1_full,['batting_team'])#[agg_wkts_runs_by(i1_full,['batting_team'])['Matches'] > 20]\n",
    "i1_teams_agg"
   ]
  },
  {
   "cell_type": "markdown",
   "metadata": {},
   "source": [
    "### Teams win-lose stats when Batting in 2nd innings"
   ]
  },
  {
   "cell_type": "code",
   "execution_count": 41,
   "metadata": {},
   "outputs": [
    {
     "data": {
      "text/html": [
       "<div>\n",
       "<style>\n",
       "    .dataframe thead tr:only-child th {\n",
       "        text-align: right;\n",
       "    }\n",
       "\n",
       "    .dataframe thead th {\n",
       "        text-align: left;\n",
       "    }\n",
       "\n",
       "    .dataframe tbody tr th {\n",
       "        vertical-align: top;\n",
       "    }\n",
       "</style>\n",
       "<table border=\"1\" class=\"dataframe\">\n",
       "  <thead>\n",
       "    <tr style=\"text-align: right;\">\n",
       "      <th></th>\n",
       "      <th>batting_team</th>\n",
       "      <th>Matches</th>\n",
       "      <th>Wickets</th>\n",
       "      <th>Score</th>\n",
       "      <th>toss_and_match_winner</th>\n",
       "      <th>toss_and_match_loser</th>\n",
       "      <th>toss_win_match_lose</th>\n",
       "      <th>toss_lose_match_win</th>\n",
       "    </tr>\n",
       "  </thead>\n",
       "  <tbody>\n",
       "    <tr>\n",
       "      <th>0</th>\n",
       "      <td>Chennai Super Kings</td>\n",
       "      <td>31</td>\n",
       "      <td>5.0</td>\n",
       "      <td>152.0</td>\n",
       "      <td>10</td>\n",
       "      <td>6</td>\n",
       "      <td>5</td>\n",
       "      <td>10</td>\n",
       "    </tr>\n",
       "    <tr>\n",
       "      <th>1</th>\n",
       "      <td>Deccan Chargers</td>\n",
       "      <td>4</td>\n",
       "      <td>7.0</td>\n",
       "      <td>136.0</td>\n",
       "      <td>0</td>\n",
       "      <td>1</td>\n",
       "      <td>2</td>\n",
       "      <td>1</td>\n",
       "    </tr>\n",
       "    <tr>\n",
       "      <th>2</th>\n",
       "      <td>Delhi Daredevils</td>\n",
       "      <td>53</td>\n",
       "      <td>6.0</td>\n",
       "      <td>149.0</td>\n",
       "      <td>13</td>\n",
       "      <td>13</td>\n",
       "      <td>16</td>\n",
       "      <td>11</td>\n",
       "    </tr>\n",
       "    <tr>\n",
       "      <th>3</th>\n",
       "      <td>Gujarat Lions</td>\n",
       "      <td>16</td>\n",
       "      <td>6.0</td>\n",
       "      <td>162.0</td>\n",
       "      <td>10</td>\n",
       "      <td>0</td>\n",
       "      <td>4</td>\n",
       "      <td>2</td>\n",
       "    </tr>\n",
       "    <tr>\n",
       "      <th>4</th>\n",
       "      <td>Kings XI Punjab</td>\n",
       "      <td>42</td>\n",
       "      <td>6.0</td>\n",
       "      <td>150.0</td>\n",
       "      <td>14</td>\n",
       "      <td>8</td>\n",
       "      <td>13</td>\n",
       "      <td>7</td>\n",
       "    </tr>\n",
       "    <tr>\n",
       "      <th>5</th>\n",
       "      <td>Kolkata Knight Riders</td>\n",
       "      <td>56</td>\n",
       "      <td>5.0</td>\n",
       "      <td>148.0</td>\n",
       "      <td>22</td>\n",
       "      <td>5</td>\n",
       "      <td>16</td>\n",
       "      <td>13</td>\n",
       "    </tr>\n",
       "    <tr>\n",
       "      <th>6</th>\n",
       "      <td>Mumbai Indians</td>\n",
       "      <td>49</td>\n",
       "      <td>6.0</td>\n",
       "      <td>154.0</td>\n",
       "      <td>17</td>\n",
       "      <td>5</td>\n",
       "      <td>14</td>\n",
       "      <td>13</td>\n",
       "    </tr>\n",
       "    <tr>\n",
       "      <th>7</th>\n",
       "      <td>Pune Warriors</td>\n",
       "      <td>18</td>\n",
       "      <td>7.0</td>\n",
       "      <td>136.0</td>\n",
       "      <td>0</td>\n",
       "      <td>10</td>\n",
       "      <td>6</td>\n",
       "      <td>2</td>\n",
       "    </tr>\n",
       "    <tr>\n",
       "      <th>8</th>\n",
       "      <td>Rajasthan Royals</td>\n",
       "      <td>31</td>\n",
       "      <td>6.0</td>\n",
       "      <td>149.0</td>\n",
       "      <td>9</td>\n",
       "      <td>5</td>\n",
       "      <td>8</td>\n",
       "      <td>9</td>\n",
       "    </tr>\n",
       "    <tr>\n",
       "      <th>9</th>\n",
       "      <td>Rising Pune Supergiants</td>\n",
       "      <td>15</td>\n",
       "      <td>5.0</td>\n",
       "      <td>140.0</td>\n",
       "      <td>8</td>\n",
       "      <td>3</td>\n",
       "      <td>2</td>\n",
       "      <td>2</td>\n",
       "    </tr>\n",
       "    <tr>\n",
       "      <th>10</th>\n",
       "      <td>Royal Challengers Bangalore</td>\n",
       "      <td>42</td>\n",
       "      <td>6.0</td>\n",
       "      <td>141.0</td>\n",
       "      <td>16</td>\n",
       "      <td>5</td>\n",
       "      <td>17</td>\n",
       "      <td>4</td>\n",
       "    </tr>\n",
       "    <tr>\n",
       "      <th>11</th>\n",
       "      <td>Sunrisers Hyderabad</td>\n",
       "      <td>30</td>\n",
       "      <td>5.0</td>\n",
       "      <td>141.0</td>\n",
       "      <td>10</td>\n",
       "      <td>5</td>\n",
       "      <td>7</td>\n",
       "      <td>8</td>\n",
       "    </tr>\n",
       "  </tbody>\n",
       "</table>\n",
       "</div>"
      ],
      "text/plain": [
       "                   batting_team  Matches  Wickets  Score  \\\n",
       "0           Chennai Super Kings       31      5.0  152.0   \n",
       "1               Deccan Chargers        4      7.0  136.0   \n",
       "2              Delhi Daredevils       53      6.0  149.0   \n",
       "3                 Gujarat Lions       16      6.0  162.0   \n",
       "4               Kings XI Punjab       42      6.0  150.0   \n",
       "5         Kolkata Knight Riders       56      5.0  148.0   \n",
       "6                Mumbai Indians       49      6.0  154.0   \n",
       "7                 Pune Warriors       18      7.0  136.0   \n",
       "8              Rajasthan Royals       31      6.0  149.0   \n",
       "9       Rising Pune Supergiants       15      5.0  140.0   \n",
       "10  Royal Challengers Bangalore       42      6.0  141.0   \n",
       "11          Sunrisers Hyderabad       30      5.0  141.0   \n",
       "\n",
       "    toss_and_match_winner  toss_and_match_loser  toss_win_match_lose  \\\n",
       "0                      10                     6                    5   \n",
       "1                       0                     1                    2   \n",
       "2                      13                    13                   16   \n",
       "3                      10                     0                    4   \n",
       "4                      14                     8                   13   \n",
       "5                      22                     5                   16   \n",
       "6                      17                     5                   14   \n",
       "7                       0                    10                    6   \n",
       "8                       9                     5                    8   \n",
       "9                       8                     3                    2   \n",
       "10                     16                     5                   17   \n",
       "11                     10                     5                    7   \n",
       "\n",
       "    toss_lose_match_win  \n",
       "0                    10  \n",
       "1                     1  \n",
       "2                    11  \n",
       "3                     2  \n",
       "4                     7  \n",
       "5                    13  \n",
       "6                    13  \n",
       "7                     2  \n",
       "8                     9  \n",
       "9                     2  \n",
       "10                    4  \n",
       "11                    8  "
      ]
     },
     "execution_count": 41,
     "metadata": {},
     "output_type": "execute_result"
    }
   ],
   "source": [
    "i2_teams_agg = agg_wkts_runs_by(i2_full,['batting_team'])#[agg_wkts_runs_by(i2_full,['batting_team'])['Matches'] > 20]\n",
    "i2_teams_agg"
   ]
  },
  {
   "cell_type": "markdown",
   "metadata": {},
   "source": [
    "### Venue-wise win-lose stats when Batting in 1st innings"
   ]
  },
  {
   "cell_type": "code",
   "execution_count": 42,
   "metadata": {},
   "outputs": [
    {
     "data": {
      "text/html": [
       "<div>\n",
       "<style>\n",
       "    .dataframe thead tr:only-child th {\n",
       "        text-align: right;\n",
       "    }\n",
       "\n",
       "    .dataframe thead th {\n",
       "        text-align: left;\n",
       "    }\n",
       "\n",
       "    .dataframe tbody tr th {\n",
       "        vertical-align: top;\n",
       "    }\n",
       "</style>\n",
       "<table border=\"1\" class=\"dataframe\">\n",
       "  <thead>\n",
       "    <tr style=\"text-align: right;\">\n",
       "      <th></th>\n",
       "      <th>venue</th>\n",
       "      <th>Matches</th>\n",
       "      <th>Wickets</th>\n",
       "      <th>Score</th>\n",
       "      <th>toss_and_match_winner</th>\n",
       "      <th>toss_and_match_loser</th>\n",
       "      <th>toss_win_match_lose</th>\n",
       "      <th>toss_lose_match_win</th>\n",
       "    </tr>\n",
       "  </thead>\n",
       "  <tbody>\n",
       "    <tr>\n",
       "      <th>4</th>\n",
       "      <td>Eden Gardens</td>\n",
       "      <td>40</td>\n",
       "      <td>6.0</td>\n",
       "      <td>158.0</td>\n",
       "      <td>6</td>\n",
       "      <td>16</td>\n",
       "      <td>8</td>\n",
       "      <td>10</td>\n",
       "    </tr>\n",
       "    <tr>\n",
       "      <th>5</th>\n",
       "      <td>Feroz Shah Kotla</td>\n",
       "      <td>40</td>\n",
       "      <td>6.0</td>\n",
       "      <td>162.0</td>\n",
       "      <td>7</td>\n",
       "      <td>15</td>\n",
       "      <td>8</td>\n",
       "      <td>10</td>\n",
       "    </tr>\n",
       "    <tr>\n",
       "      <th>10</th>\n",
       "      <td>M Chinnaswamy Stadium</td>\n",
       "      <td>45</td>\n",
       "      <td>6.0</td>\n",
       "      <td>172.0</td>\n",
       "      <td>3</td>\n",
       "      <td>23</td>\n",
       "      <td>3</td>\n",
       "      <td>16</td>\n",
       "    </tr>\n",
       "    <tr>\n",
       "      <th>11</th>\n",
       "      <td>MA Chidambaram Stadium, Chepauk</td>\n",
       "      <td>25</td>\n",
       "      <td>5.0</td>\n",
       "      <td>165.0</td>\n",
       "      <td>10</td>\n",
       "      <td>3</td>\n",
       "      <td>7</td>\n",
       "      <td>5</td>\n",
       "    </tr>\n",
       "    <tr>\n",
       "      <th>15</th>\n",
       "      <td>Rajiv Gandhi International Stadium, Uppal</td>\n",
       "      <td>35</td>\n",
       "      <td>6.0</td>\n",
       "      <td>152.0</td>\n",
       "      <td>4</td>\n",
       "      <td>7</td>\n",
       "      <td>14</td>\n",
       "      <td>10</td>\n",
       "    </tr>\n",
       "    <tr>\n",
       "      <th>23</th>\n",
       "      <td>Wankhede Stadium</td>\n",
       "      <td>42</td>\n",
       "      <td>6.0</td>\n",
       "      <td>168.0</td>\n",
       "      <td>9</td>\n",
       "      <td>12</td>\n",
       "      <td>7</td>\n",
       "      <td>14</td>\n",
       "    </tr>\n",
       "  </tbody>\n",
       "</table>\n",
       "</div>"
      ],
      "text/plain": [
       "                                        venue  Matches  Wickets  Score  \\\n",
       "4                                Eden Gardens       40      6.0  158.0   \n",
       "5                            Feroz Shah Kotla       40      6.0  162.0   \n",
       "10                      M Chinnaswamy Stadium       45      6.0  172.0   \n",
       "11            MA Chidambaram Stadium, Chepauk       25      5.0  165.0   \n",
       "15  Rajiv Gandhi International Stadium, Uppal       35      6.0  152.0   \n",
       "23                           Wankhede Stadium       42      6.0  168.0   \n",
       "\n",
       "    toss_and_match_winner  toss_and_match_loser  toss_win_match_lose  \\\n",
       "4                       6                    16                    8   \n",
       "5                       7                    15                    8   \n",
       "10                      3                    23                    3   \n",
       "11                     10                     3                    7   \n",
       "15                      4                     7                   14   \n",
       "23                      9                    12                    7   \n",
       "\n",
       "    toss_lose_match_win  \n",
       "4                    10  \n",
       "5                    10  \n",
       "10                   16  \n",
       "11                    5  \n",
       "15                   10  \n",
       "23                   14  "
      ]
     },
     "execution_count": 42,
     "metadata": {},
     "output_type": "execute_result"
    }
   ],
   "source": [
    "i1_venue_agg = agg_wkts_runs_by(i1_full,['venue'])[agg_wkts_runs_by(i1_full,['venue'])['Matches'] > 20]\n",
    "i1_venue_agg"
   ]
  },
  {
   "cell_type": "markdown",
   "metadata": {},
   "source": [
    "### Venue-wise win-lose stats when Batting in 2nd innings"
   ]
  },
  {
   "cell_type": "code",
   "execution_count": 43,
   "metadata": {},
   "outputs": [
    {
     "data": {
      "text/html": [
       "<div>\n",
       "<style>\n",
       "    .dataframe thead tr:only-child th {\n",
       "        text-align: right;\n",
       "    }\n",
       "\n",
       "    .dataframe thead th {\n",
       "        text-align: left;\n",
       "    }\n",
       "\n",
       "    .dataframe tbody tr th {\n",
       "        vertical-align: top;\n",
       "    }\n",
       "</style>\n",
       "<table border=\"1\" class=\"dataframe\">\n",
       "  <thead>\n",
       "    <tr style=\"text-align: right;\">\n",
       "      <th></th>\n",
       "      <th>venue</th>\n",
       "      <th>Matches</th>\n",
       "      <th>Wickets</th>\n",
       "      <th>Score</th>\n",
       "      <th>toss_and_match_winner</th>\n",
       "      <th>toss_and_match_loser</th>\n",
       "      <th>toss_win_match_lose</th>\n",
       "      <th>toss_lose_match_win</th>\n",
       "    </tr>\n",
       "  </thead>\n",
       "  <tbody>\n",
       "    <tr>\n",
       "      <th>4</th>\n",
       "      <td>Eden Gardens</td>\n",
       "      <td>40</td>\n",
       "      <td>5.0</td>\n",
       "      <td>148.0</td>\n",
       "      <td>16</td>\n",
       "      <td>6</td>\n",
       "      <td>10</td>\n",
       "      <td>8</td>\n",
       "    </tr>\n",
       "    <tr>\n",
       "      <th>5</th>\n",
       "      <td>Feroz Shah Kotla</td>\n",
       "      <td>40</td>\n",
       "      <td>6.0</td>\n",
       "      <td>148.0</td>\n",
       "      <td>15</td>\n",
       "      <td>7</td>\n",
       "      <td>10</td>\n",
       "      <td>8</td>\n",
       "    </tr>\n",
       "    <tr>\n",
       "      <th>10</th>\n",
       "      <td>M Chinnaswamy Stadium</td>\n",
       "      <td>45</td>\n",
       "      <td>6.0</td>\n",
       "      <td>148.0</td>\n",
       "      <td>21</td>\n",
       "      <td>3</td>\n",
       "      <td>18</td>\n",
       "      <td>3</td>\n",
       "    </tr>\n",
       "    <tr>\n",
       "      <th>11</th>\n",
       "      <td>MA Chidambaram Stadium, Chepauk</td>\n",
       "      <td>25</td>\n",
       "      <td>6.0</td>\n",
       "      <td>150.0</td>\n",
       "      <td>3</td>\n",
       "      <td>10</td>\n",
       "      <td>5</td>\n",
       "      <td>7</td>\n",
       "    </tr>\n",
       "    <tr>\n",
       "      <th>14</th>\n",
       "      <td>Punjab Cricket Association Stadium, Mohali</td>\n",
       "      <td>19</td>\n",
       "      <td>5.0</td>\n",
       "      <td>147.0</td>\n",
       "      <td>8</td>\n",
       "      <td>2</td>\n",
       "      <td>5</td>\n",
       "      <td>4</td>\n",
       "    </tr>\n",
       "    <tr>\n",
       "      <th>15</th>\n",
       "      <td>Rajiv Gandhi International Stadium, Uppal</td>\n",
       "      <td>35</td>\n",
       "      <td>5.0</td>\n",
       "      <td>142.0</td>\n",
       "      <td>7</td>\n",
       "      <td>5</td>\n",
       "      <td>10</td>\n",
       "      <td>13</td>\n",
       "    </tr>\n",
       "    <tr>\n",
       "      <th>18</th>\n",
       "      <td>Sawai Mansingh Stadium</td>\n",
       "      <td>16</td>\n",
       "      <td>6.0</td>\n",
       "      <td>146.0</td>\n",
       "      <td>4</td>\n",
       "      <td>2</td>\n",
       "      <td>4</td>\n",
       "      <td>6</td>\n",
       "    </tr>\n",
       "    <tr>\n",
       "      <th>22</th>\n",
       "      <td>Subrata Roy Sahara Stadium</td>\n",
       "      <td>17</td>\n",
       "      <td>7.0</td>\n",
       "      <td>132.0</td>\n",
       "      <td>0</td>\n",
       "      <td>9</td>\n",
       "      <td>2</td>\n",
       "      <td>6</td>\n",
       "    </tr>\n",
       "    <tr>\n",
       "      <th>23</th>\n",
       "      <td>Wankhede Stadium</td>\n",
       "      <td>42</td>\n",
       "      <td>6.0</td>\n",
       "      <td>156.0</td>\n",
       "      <td>12</td>\n",
       "      <td>9</td>\n",
       "      <td>14</td>\n",
       "      <td>7</td>\n",
       "    </tr>\n",
       "  </tbody>\n",
       "</table>\n",
       "</div>"
      ],
      "text/plain": [
       "                                         venue  Matches  Wickets  Score  \\\n",
       "4                                 Eden Gardens       40      5.0  148.0   \n",
       "5                             Feroz Shah Kotla       40      6.0  148.0   \n",
       "10                       M Chinnaswamy Stadium       45      6.0  148.0   \n",
       "11             MA Chidambaram Stadium, Chepauk       25      6.0  150.0   \n",
       "14  Punjab Cricket Association Stadium, Mohali       19      5.0  147.0   \n",
       "15   Rajiv Gandhi International Stadium, Uppal       35      5.0  142.0   \n",
       "18                      Sawai Mansingh Stadium       16      6.0  146.0   \n",
       "22                  Subrata Roy Sahara Stadium       17      7.0  132.0   \n",
       "23                            Wankhede Stadium       42      6.0  156.0   \n",
       "\n",
       "    toss_and_match_winner  toss_and_match_loser  toss_win_match_lose  \\\n",
       "4                      16                     6                   10   \n",
       "5                      15                     7                   10   \n",
       "10                     21                     3                   18   \n",
       "11                      3                    10                    5   \n",
       "14                      8                     2                    5   \n",
       "15                      7                     5                   10   \n",
       "18                      4                     2                    4   \n",
       "22                      0                     9                    2   \n",
       "23                     12                     9                   14   \n",
       "\n",
       "    toss_lose_match_win  \n",
       "4                     8  \n",
       "5                     8  \n",
       "10                    3  \n",
       "11                    7  \n",
       "14                    4  \n",
       "15                   13  \n",
       "18                    6  \n",
       "22                    6  \n",
       "23                    7  "
      ]
     },
     "execution_count": 43,
     "metadata": {},
     "output_type": "execute_result"
    }
   ],
   "source": [
    "i2_venue_agg = agg_wkts_runs_by(i2_full,['venue'])[agg_wkts_runs_by(i2_full,['venue'])['Matches'] > 15]\n",
    "i2_venue_agg"
   ]
  },
  {
   "cell_type": "code",
   "execution_count": 43,
   "metadata": {
    "collapsed": true,
    "scrolled": true
   },
   "outputs": [],
   "source": [
    "#i1_df_new.drop(['winner','wickets'],axis=1,inplace=True)"
   ]
  },
  {
   "cell_type": "markdown",
   "metadata": {},
   "source": [
    "### ML Code for Prediction"
   ]
  },
  {
   "cell_type": "code",
   "execution_count": 44,
   "metadata": {
    "collapsed": true
   },
   "outputs": [],
   "source": [
    "y= np.array(i1_df_new['Total'])"
   ]
  },
  {
   "cell_type": "code",
   "execution_count": 45,
   "metadata": {
    "collapsed": true
   },
   "outputs": [],
   "source": [
    "i1_df_new.drop(['Total'],axis=1,inplace=True)"
   ]
  },
  {
   "cell_type": "code",
   "execution_count": 46,
   "metadata": {
    "collapsed": true
   },
   "outputs": [],
   "source": [
    "x = np.matrix(i1_df_new)"
   ]
  },
  {
   "cell_type": "code",
   "execution_count": 47,
   "metadata": {},
   "outputs": [
    {
     "data": {
      "text/plain": [
       "(74, 9)"
      ]
     },
     "execution_count": 47,
     "metadata": {},
     "output_type": "execute_result"
    }
   ],
   "source": [
    "x.shape"
   ]
  },
  {
   "cell_type": "code",
   "execution_count": 48,
   "metadata": {},
   "outputs": [
    {
     "data": {
      "text/plain": [
       "array([112,  97, 129, 191, 157, 193, 164, 166, 138, 165, 110, 197, 205,\n",
       "       115, 131, 157, 155, 134, 195,  92, 196, 182, 124, 187, 164, 163,\n",
       "       146, 192, 163, 126, 189, 146, 168, 177, 207, 156, 190, 152, 100,\n",
       "       139, 186, 141, 158, 120, 160, 150, 177, 173, 181, 153, 125, 170,\n",
       "       141, 126, 173, 182, 114, 170, 190, 171, 158, 136, 140, 120, 215,\n",
       "       126, 141, 136, 132, 162, 162, 187, 222, 190], dtype=int64)"
      ]
     },
     "execution_count": 48,
     "metadata": {},
     "output_type": "execute_result"
    }
   ],
   "source": [
    "y"
   ]
  },
  {
   "cell_type": "code",
   "execution_count": 49,
   "metadata": {
    "collapsed": true
   },
   "outputs": [],
   "source": [
    "x_train = x[0:50]\n",
    "x_test = x[51:73]\n",
    "y_train = y[0:50]\n",
    "y_test = y[51:73]"
   ]
  },
  {
   "cell_type": "code",
   "execution_count": 50,
   "metadata": {
    "collapsed": true
   },
   "outputs": [],
   "source": [
    "scaler = StandardScaler()"
   ]
  },
  {
   "cell_type": "code",
   "execution_count": 51,
   "metadata": {},
   "outputs": [
    {
     "ename": "ValueError",
     "evalue": "could not convert string to float: 'Kolkata Knight Riders'",
     "output_type": "error",
     "traceback": [
      "\u001b[1;31m---------------------------------------------------------------------------\u001b[0m",
      "\u001b[1;31mValueError\u001b[0m                                Traceback (most recent call last)",
      "\u001b[1;32m<ipython-input-51-7de02f764b47>\u001b[0m in \u001b[0;36m<module>\u001b[1;34m()\u001b[0m\n\u001b[1;32m----> 1\u001b[1;33m \u001b[0mscaler\u001b[0m\u001b[1;33m.\u001b[0m\u001b[0mfit\u001b[0m\u001b[1;33m(\u001b[0m\u001b[0mx_train\u001b[0m\u001b[1;33m)\u001b[0m\u001b[1;33m\u001b[0m\u001b[0m\n\u001b[0m",
      "\u001b[1;32mC:\\Continuum\\Anaconda2\\envs\\TFENV\\lib\\site-packages\\sklearn\\preprocessing\\data.py\u001b[0m in \u001b[0;36mfit\u001b[1;34m(self, X, y)\u001b[0m\n\u001b[0;32m    558\u001b[0m         \u001b[1;31m# Reset internal state before fitting\u001b[0m\u001b[1;33m\u001b[0m\u001b[1;33m\u001b[0m\u001b[0m\n\u001b[0;32m    559\u001b[0m         \u001b[0mself\u001b[0m\u001b[1;33m.\u001b[0m\u001b[0m_reset\u001b[0m\u001b[1;33m(\u001b[0m\u001b[1;33m)\u001b[0m\u001b[1;33m\u001b[0m\u001b[0m\n\u001b[1;32m--> 560\u001b[1;33m         \u001b[1;32mreturn\u001b[0m \u001b[0mself\u001b[0m\u001b[1;33m.\u001b[0m\u001b[0mpartial_fit\u001b[0m\u001b[1;33m(\u001b[0m\u001b[0mX\u001b[0m\u001b[1;33m,\u001b[0m \u001b[0my\u001b[0m\u001b[1;33m)\u001b[0m\u001b[1;33m\u001b[0m\u001b[0m\n\u001b[0m\u001b[0;32m    561\u001b[0m \u001b[1;33m\u001b[0m\u001b[0m\n\u001b[0;32m    562\u001b[0m     \u001b[1;32mdef\u001b[0m \u001b[0mpartial_fit\u001b[0m\u001b[1;33m(\u001b[0m\u001b[0mself\u001b[0m\u001b[1;33m,\u001b[0m \u001b[0mX\u001b[0m\u001b[1;33m,\u001b[0m \u001b[0my\u001b[0m\u001b[1;33m=\u001b[0m\u001b[1;32mNone\u001b[0m\u001b[1;33m)\u001b[0m\u001b[1;33m:\u001b[0m\u001b[1;33m\u001b[0m\u001b[0m\n",
      "\u001b[1;32mC:\\Continuum\\Anaconda2\\envs\\TFENV\\lib\\site-packages\\sklearn\\preprocessing\\data.py\u001b[0m in \u001b[0;36mpartial_fit\u001b[1;34m(self, X, y)\u001b[0m\n\u001b[0;32m    581\u001b[0m         X = check_array(X, accept_sparse=('csr', 'csc'), copy=self.copy,\n\u001b[0;32m    582\u001b[0m                         \u001b[0mensure_2d\u001b[0m\u001b[1;33m=\u001b[0m\u001b[1;32mFalse\u001b[0m\u001b[1;33m,\u001b[0m \u001b[0mwarn_on_dtype\u001b[0m\u001b[1;33m=\u001b[0m\u001b[1;32mTrue\u001b[0m\u001b[1;33m,\u001b[0m\u001b[1;33m\u001b[0m\u001b[0m\n\u001b[1;32m--> 583\u001b[1;33m                         estimator=self, dtype=FLOAT_DTYPES)\n\u001b[0m\u001b[0;32m    584\u001b[0m \u001b[1;33m\u001b[0m\u001b[0m\n\u001b[0;32m    585\u001b[0m         \u001b[1;32mif\u001b[0m \u001b[0mX\u001b[0m\u001b[1;33m.\u001b[0m\u001b[0mndim\u001b[0m \u001b[1;33m==\u001b[0m \u001b[1;36m1\u001b[0m\u001b[1;33m:\u001b[0m\u001b[1;33m\u001b[0m\u001b[0m\n",
      "\u001b[1;32mC:\\Continuum\\Anaconda2\\envs\\TFENV\\lib\\site-packages\\sklearn\\utils\\validation.py\u001b[0m in \u001b[0;36mcheck_array\u001b[1;34m(array, accept_sparse, dtype, order, copy, force_all_finite, ensure_2d, allow_nd, ensure_min_samples, ensure_min_features, warn_on_dtype, estimator)\u001b[0m\n\u001b[0;32m    380\u001b[0m                                       force_all_finite)\n\u001b[0;32m    381\u001b[0m     \u001b[1;32melse\u001b[0m\u001b[1;33m:\u001b[0m\u001b[1;33m\u001b[0m\u001b[0m\n\u001b[1;32m--> 382\u001b[1;33m         \u001b[0marray\u001b[0m \u001b[1;33m=\u001b[0m \u001b[0mnp\u001b[0m\u001b[1;33m.\u001b[0m\u001b[0marray\u001b[0m\u001b[1;33m(\u001b[0m\u001b[0marray\u001b[0m\u001b[1;33m,\u001b[0m \u001b[0mdtype\u001b[0m\u001b[1;33m=\u001b[0m\u001b[0mdtype\u001b[0m\u001b[1;33m,\u001b[0m \u001b[0morder\u001b[0m\u001b[1;33m=\u001b[0m\u001b[0morder\u001b[0m\u001b[1;33m,\u001b[0m \u001b[0mcopy\u001b[0m\u001b[1;33m=\u001b[0m\u001b[0mcopy\u001b[0m\u001b[1;33m)\u001b[0m\u001b[1;33m\u001b[0m\u001b[0m\n\u001b[0m\u001b[0;32m    383\u001b[0m \u001b[1;33m\u001b[0m\u001b[0m\n\u001b[0;32m    384\u001b[0m         \u001b[1;32mif\u001b[0m \u001b[0mensure_2d\u001b[0m\u001b[1;33m:\u001b[0m\u001b[1;33m\u001b[0m\u001b[0m\n",
      "\u001b[1;31mValueError\u001b[0m: could not convert string to float: 'Kolkata Knight Riders'"
     ]
    }
   ],
   "source": [
    "scaler.fit(x_train)"
   ]
  },
  {
   "cell_type": "code",
   "execution_count": null,
   "metadata": {
    "collapsed": true
   },
   "outputs": [],
   "source": [
    "x_train= scaler.transform(x_train)"
   ]
  },
  {
   "cell_type": "code",
   "execution_count": null,
   "metadata": {
    "collapsed": true
   },
   "outputs": [],
   "source": [
    "x_test= scaler.transform(x_test)"
   ]
  },
  {
   "cell_type": "code",
   "execution_count": null,
   "metadata": {
    "collapsed": true
   },
   "outputs": [],
   "source": [
    "scaler2 = StandardScaler()\n",
    "scaler2.fit(y_train)"
   ]
  },
  {
   "cell_type": "code",
   "execution_count": null,
   "metadata": {
    "collapsed": true
   },
   "outputs": [],
   "source": [
    "y_train = scaler2.transform(y_train)"
   ]
  },
  {
   "cell_type": "code",
   "execution_count": null,
   "metadata": {
    "collapsed": true
   },
   "outputs": [],
   "source": [
    "y_test = scaler2.transform(y_test)"
   ]
  },
  {
   "cell_type": "code",
   "execution_count": null,
   "metadata": {
    "collapsed": true
   },
   "outputs": [],
   "source": [
    "from sklearn.svm import SVR"
   ]
  },
  {
   "cell_type": "code",
   "execution_count": null,
   "metadata": {
    "collapsed": true
   },
   "outputs": [],
   "source": [
    "reg =SVR(C=1.0, epsilon=0.2 , kernel='linear' )\n",
    "\n",
    "#reg = linear_model.()"
   ]
  },
  {
   "cell_type": "code",
   "execution_count": null,
   "metadata": {
    "collapsed": true
   },
   "outputs": [],
   "source": [
    "reg.fit(x_train,y_train)"
   ]
  },
  {
   "cell_type": "code",
   "execution_count": null,
   "metadata": {
    "collapsed": true
   },
   "outputs": [],
   "source": [
    "reg.score(x_train,y_train)"
   ]
  },
  {
   "cell_type": "code",
   "execution_count": null,
   "metadata": {
    "collapsed": true
   },
   "outputs": [],
   "source": [
    "scaler2.inverse_transform(reg.predict(x_test))"
   ]
  },
  {
   "cell_type": "code",
   "execution_count": null,
   "metadata": {
    "collapsed": true
   },
   "outputs": [],
   "source": [
    "scaler2.inverse_transform(y_test)"
   ]
  },
  {
   "cell_type": "code",
   "execution_count": null,
   "metadata": {
    "collapsed": true
   },
   "outputs": [],
   "source": [
    "reg.score(x_test,y_test)"
   ]
  },
  {
   "cell_type": "code",
   "execution_count": null,
   "metadata": {
    "collapsed": true
   },
   "outputs": [],
   "source": []
  },
  {
   "cell_type": "code",
   "execution_count": null,
   "metadata": {
    "collapsed": true
   },
   "outputs": [],
   "source": []
  },
  {
   "cell_type": "code",
   "execution_count": null,
   "metadata": {
    "collapsed": true
   },
   "outputs": [],
   "source": []
  },
  {
   "cell_type": "code",
   "execution_count": null,
   "metadata": {
    "collapsed": true
   },
   "outputs": [],
   "source": []
  },
  {
   "cell_type": "code",
   "execution_count": null,
   "metadata": {
    "collapsed": true
   },
   "outputs": [],
   "source": []
  },
  {
   "cell_type": "code",
   "execution_count": null,
   "metadata": {
    "collapsed": true
   },
   "outputs": [],
   "source": []
  }
 ],
 "metadata": {
  "kernelspec": {
   "display_name": "Python 3",
   "language": "python",
   "name": "python3"
  },
  "language_info": {
   "codemirror_mode": {
    "name": "ipython",
    "version": 3
   },
   "file_extension": ".py",
   "mimetype": "text/x-python",
   "name": "python",
   "nbconvert_exporter": "python",
   "pygments_lexer": "ipython3",
   "version": "3.5.3"
  }
 },
 "nbformat": 4,
 "nbformat_minor": 2
}
